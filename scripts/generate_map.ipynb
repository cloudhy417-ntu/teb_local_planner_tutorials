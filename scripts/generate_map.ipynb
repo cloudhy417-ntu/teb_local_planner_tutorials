{
 "cells": [
  {
   "cell_type": "code",
   "execution_count": 1,
   "metadata": {},
   "outputs": [],
   "source": [
    "import numpy as np\n",
    "import pandas as pd\n",
    "from PIL import Image "
   ]
  },
  {
   "cell_type": "code",
   "execution_count": 2,
   "metadata": {},
   "outputs": [],
   "source": [
    "path = '/home/cloudhy/programs/sgan/datasets/univ/test/students003.txt'\n",
    "# path = '/home/cloudhy/sgan/datasets/eth/test/biwi_eth.txt'"
   ]
  },
  {
   "cell_type": "code",
   "execution_count": 3,
   "metadata": {},
   "outputs": [],
   "source": [
    "def read_file(_path, delim='\\t'):\n",
    "    data = []\n",
    "    if delim == 'tab':\n",
    "        delim = '\\t'\n",
    "    elif delim == 'space':\n",
    "        delim = ' '\n",
    "    with open(_path, 'r') as f:\n",
    "        for line in f:\n",
    "            line = line.strip().split(delim)\n",
    "            line = [float(i) for i in line]\n",
    "            data.append(line)\n",
    "    return np.asarray(data)"
   ]
  },
  {
   "cell_type": "code",
   "execution_count": 4,
   "metadata": {},
   "outputs": [],
   "source": [
    "raw_data = read_file(path)\n",
    "dataframe = pd.DataFrame(raw_data, columns=['frame', 'id', 'x', 'y'])\n",
    "dataframe['frame'] = dataframe['frame'].astype(int)\n",
    "dataframe = dataframe.set_index('frame')\n",
    "dataframe.x -=(dataframe.x.max()+dataframe.x.min())/2\n",
    "dataframe.y -=(dataframe.y.max()+dataframe.y.min())/2"
   ]
  },
  {
   "cell_type": "code",
   "execution_count": 8,
   "metadata": {},
   "outputs": [],
   "source": [
    "x_size = round(dataframe.x.max())+2\n",
    "y_size = round(dataframe.y.max())+2"
   ]
  },
  {
   "cell_type": "code",
   "execution_count": 9,
   "metadata": {},
   "outputs": [
    {
     "data": {
      "text/plain": [
       "10"
      ]
     },
     "execution_count": 9,
     "metadata": {},
     "output_type": "execute_result"
    }
   ],
   "source": [
    "x_size"
   ]
  },
  {
   "cell_type": "code",
   "execution_count": 10,
   "metadata": {},
   "outputs": [],
   "source": [
    "map_arr = np.zeros((y_size*40, x_size*40), dtype=np.uint8)"
   ]
  },
  {
   "cell_type": "code",
   "execution_count": 11,
   "metadata": {},
   "outputs": [],
   "source": [
    "map_arr.fill(255)"
   ]
  },
  {
   "cell_type": "code",
   "execution_count": 12,
   "metadata": {},
   "outputs": [],
   "source": [
    "for i in range(map_arr.shape[0]):\n",
    "    for j in range(3):\n",
    "        map_arr[i,j] = 0\n",
    "    for j in range(map_arr.shape[1]-3, map_arr.shape[1]):\n",
    "        map_arr[i,j] = 0\n",
    "for j in range(map_arr.shape[1]):\n",
    "    for i in range(3):\n",
    "        map_arr[i,j] = 0\n",
    "    for i in range(map_arr.shape[0]-3, map_arr.shape[0]):\n",
    "        map_arr[i,j] = 0"
   ]
  },
  {
   "cell_type": "code",
   "execution_count": 13,
   "metadata": {},
   "outputs": [],
   "source": [
    "map_image = Image.fromarray(map_arr, 'L')"
   ]
  },
  {
   "cell_type": "code",
   "execution_count": 15,
   "metadata": {},
   "outputs": [],
   "source": [
    "map_image.save('../maps/empty_box_univ1_{}X{}.png'.format(x_size*2, y_size*2))"
   ]
  },
  {
   "cell_type": "code",
   "execution_count": null,
   "metadata": {},
   "outputs": [],
   "source": []
  }
 ],
 "metadata": {
  "kernelspec": {
   "display_name": "Python 3",
   "language": "python",
   "name": "python3"
  },
  "language_info": {
   "codemirror_mode": {
    "name": "ipython",
    "version": 3
   },
   "file_extension": ".py",
   "mimetype": "text/x-python",
   "name": "python",
   "nbconvert_exporter": "python",
   "pygments_lexer": "ipython3",
   "version": "3.6.8"
  }
 },
 "nbformat": 4,
 "nbformat_minor": 5
}
