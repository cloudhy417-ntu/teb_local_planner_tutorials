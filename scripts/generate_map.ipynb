{
 "cells": [
  {
   "cell_type": "code",
   "execution_count": 1,
   "id": "067df05a-3e1e-46b7-8043-bfc678840999",
   "metadata": {},
   "outputs": [],
   "source": [
    "import numpy as np\n",
    "import pandas as pd\n",
    "from PIL import Image "
   ]
  },
  {
   "cell_type": "code",
   "execution_count": 2,
   "id": "f3cdce08-2d70-4197-b352-016d78d881ab",
   "metadata": {},
   "outputs": [],
   "source": [
    "# path = '/home/cloudhy/sgan/datasets/univ/test/students001.txt'\n",
    "path = '/home/cloudhy/sgan/datasets/eth/test/biwi_eth.txt'"
   ]
  },
  {
   "cell_type": "code",
   "execution_count": 3,
   "id": "4387e10a-cd98-471a-be8a-3c15b357a1f9",
   "metadata": {},
   "outputs": [],
   "source": [
    "def read_file(_path, delim='\\t'):\n",
    "    data = []\n",
    "    if delim == 'tab':\n",
    "        delim = '\\t'\n",
    "    elif delim == 'space':\n",
    "        delim = ' '\n",
    "    with open(_path, 'r') as f:\n",
    "        for line in f:\n",
    "            line = line.strip().split(delim)\n",
    "            line = [float(i) for i in line]\n",
    "            data.append(line)\n",
    "    return np.asarray(data)"
   ]
  },
  {
   "cell_type": "code",
   "execution_count": 4,
   "id": "ce4668a2-f297-4ce4-9d8b-49f2e2d5a93d",
   "metadata": {},
   "outputs": [],
   "source": [
    "raw_data = read_file(path)\n",
    "dataframe = pd.DataFrame(raw_data, columns=['frame', 'id', 'x', 'y'])\n",
    "dataframe['frame'] = dataframe['frame'].astype(int)\n",
    "dataframe = dataframe.set_index('frame')\n",
    "dataframe.x -=(dataframe.x.max()+dataframe.x.min())/2\n",
    "dataframe.y -=(dataframe.y.max()+dataframe.y.min())/2"
   ]
  },
  {
   "cell_type": "code",
   "execution_count": 5,
   "id": "0ad368b3-3a2d-4ba9-84fd-ceae6eafc992",
   "metadata": {},
   "outputs": [],
   "source": [
    "x_size = round(dataframe.x.max())\n",
    "y_size = round(dataframe.y.max())"
   ]
  },
  {
   "cell_type": "code",
   "execution_count": 7,
   "id": "8fc37a0b-322d-40ad-9f18-077756c2c2d8",
   "metadata": {},
   "outputs": [
    {
     "data": {
      "text/plain": [
       "8"
      ]
     },
     "execution_count": 7,
     "metadata": {},
     "output_type": "execute_result"
    }
   ],
   "source": [
    "y_size"
   ]
  },
  {
   "cell_type": "code",
   "execution_count": 8,
   "id": "f4d65abb-b1f9-4f6c-94b7-e1ca6989bedb",
   "metadata": {},
   "outputs": [],
   "source": [
    "map_arr = np.zeros((y_size*40, x_size*40), dtype=np.uint8)"
   ]
  },
  {
   "cell_type": "code",
   "execution_count": 9,
   "id": "98668551-32ec-4b2a-af20-fe9dd9bf6c60",
   "metadata": {},
   "outputs": [],
   "source": [
    "map_arr.fill(255)"
   ]
  },
  {
   "cell_type": "code",
   "execution_count": 10,
   "id": "b756cc82-4e06-4652-b52e-4d58d24d8d65",
   "metadata": {},
   "outputs": [],
   "source": [
    "for i in range(map_arr.shape[0]):\n",
    "    for j in range(3):\n",
    "        map_arr[i,j] = 0\n",
    "    for j in range(map_arr.shape[1]-3, map_arr.shape[1]):\n",
    "        map_arr[i,j] = 0\n",
    "for j in range(map_arr.shape[1]):\n",
    "    for i in range(3):\n",
    "        map_arr[i,j] = 0\n",
    "    for i in range(map_arr.shape[0]-3, map_arr.shape[0]):\n",
    "        map_arr[i,j] = 0"
   ]
  },
  {
   "cell_type": "code",
   "execution_count": 11,
   "id": "00d5773c-19f2-483a-bf95-e229f53dacb2",
   "metadata": {},
   "outputs": [],
   "source": [
    "map_image = Image.fromarray(map_arr, 'L')"
   ]
  },
  {
   "cell_type": "code",
   "execution_count": 12,
   "id": "bff70925-6b07-4be2-845b-55a79e85a102",
   "metadata": {},
   "outputs": [],
   "source": [
    "map_image.save('../maps/empty_box{}X{}.png'.format(x_size*2, y_size*2))"
   ]
  },
  {
   "cell_type": "code",
   "execution_count": null,
   "id": "c093083a-29b3-44fb-b173-22e687fb5dde",
   "metadata": {},
   "outputs": [],
   "source": []
  }
 ],
 "metadata": {
  "kernelspec": {
   "display_name": "Python 3",
   "language": "python",
   "name": "python3"
  },
  "language_info": {
   "codemirror_mode": {
    "name": "ipython",
    "version": 3
   },
   "file_extension": ".py",
   "mimetype": "text/x-python",
   "name": "python",
   "nbconvert_exporter": "python",
   "pygments_lexer": "ipython3",
   "version": "3.6.8"
  }
 },
 "nbformat": 4,
 "nbformat_minor": 5
}
